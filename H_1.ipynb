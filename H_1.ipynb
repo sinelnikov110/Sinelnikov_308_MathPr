{
 "cells": [
  {
   "cell_type": "code",
   "execution_count": 49,
   "id": "8323ac98",
   "metadata": {},
   "outputs": [],
   "source": [
    "class Test:\n",
    "    @staticmethod\n",
    "    def assert_equals(a, b, *args, **kwargs):\n",
    "        assert a == b\n",
    "        print('Passed')"
   ]
  },
  {
   "cell_type": "code",
   "execution_count": 50,
   "id": "2e1dfd39",
   "metadata": {},
   "outputs": [],
   "source": [
    "def seven_boom(lst):\n",
    "    flag = 0\n",
    "    n=len(lst)\n",
    "    for i in range(n):\n",
    "        b = lst[i]\n",
    "        while b != 0:\n",
    "            if b%10 == 7:\n",
    "                flag = 1;\n",
    "                return \"Boom!\"\n",
    "                break\n",
    "            b = b//10\n",
    "    if flag == 0:\n",
    "        return \"there is no 7 in the list\""
   ]
  },
  {
   "cell_type": "code",
   "execution_count": 51,
   "id": "bb543894",
   "metadata": {},
   "outputs": [
    {
     "name": "stdout",
     "output_type": "stream",
     "text": [
      "Passed\n",
      "Passed\n",
      "Passed\n",
      "Passed\n",
      "Passed\n"
     ]
    }
   ],
   "source": [
    "Test.assert_equals(seven_boom([2, 6, 7, 9, 3]), \"Boom!\")\n",
    "Test.assert_equals(seven_boom([33, 68, 400, 5]), \"there is no 7 in the list\")\n",
    "Test.assert_equals(seven_boom([86, 48, 100, 66]), \"there is no 7 in the list\")\n",
    "Test.assert_equals(seven_boom([76, 55, 44, 32]), \"Boom!\")\n",
    "Test.assert_equals(seven_boom([35, 4, 9, 37]), \"Boom!\")"
   ]
  },
  {
   "cell_type": "code",
   "execution_count": 52,
   "id": "2615964c",
   "metadata": {},
   "outputs": [],
   "source": [
    "def can_nest(list1, list2):\n",
    "    a_1 = list1.copy()\n",
    "    a_2 = list2.copy()\n",
    "\n",
    "    max_1=max(a_1)\n",
    "    max_2=max(a_2)\n",
    "    min_1=min(a_1)\n",
    "    min_2=min(a_2)\n",
    "    if min_1 > min_2 and max_2>max_1:\n",
    "        return True\n",
    "    else:\n",
    "        return False"
   ]
  },
  {
   "cell_type": "code",
   "execution_count": 53,
   "id": "0a6b06bc",
   "metadata": {},
   "outputs": [
    {
     "name": "stdout",
     "output_type": "stream",
     "text": [
      "Passed\n",
      "Passed\n",
      "Passed\n",
      "Passed\n",
      "Passed\n"
     ]
    }
   ],
   "source": [
    "Test.assert_equals(can_nest([1, 2, 3, 4], [0, 6]), True)\n",
    "Test.assert_equals(can_nest([3, 1], [4, 0]), True)\n",
    "Test.assert_equals(can_nest([9, 9, 8], [8, 9, 10]), False)\n",
    "Test.assert_equals(can_nest([9, 9, 8], [8, 9]), False)\n",
    "Test.assert_equals(can_nest([1, 2, 3, 4], [2, 3]), False)"
   ]
  },
  {
   "cell_type": "code",
   "execution_count": 54,
   "id": "69a80c97",
   "metadata": {},
   "outputs": [],
   "source": [
    "def gold_distribution(gold):\n",
    "    flag=0\n",
    "    b = [0, 0]\n",
    "    n=len(gold)\n",
    "    a=gold.copy()\n",
    "    for i in range(n):\n",
    "        if flag == 0:\n",
    "            if a[-1] > a[0]:\n",
    "                b[0] += a[-1]\n",
    "                a.pop(-1)\n",
    "            elif a[-1] < a[0]:\n",
    "                b[0] += a[0]\n",
    "                a.pop(0)\n",
    "            else:\n",
    "                b[0] += a[0]\n",
    "                a.pop(0)\n",
    "            flag = 1\n",
    "        else:\n",
    "            if a[-1] > a[0]:\n",
    "                b[1] += a[-1]\n",
    "                a.pop(-1)\n",
    "            elif a[-1] < a[0]:\n",
    "                b[1] += a[0]\n",
    "                a.pop(0)\n",
    "            else:\n",
    "                b[1] += a[0]\n",
    "                a.pop(0)\n",
    "            flag = 0\n",
    "\n",
    "    return b"
   ]
  },
  {
   "cell_type": "code",
   "execution_count": 55,
   "id": "1d65fb74",
   "metadata": {},
   "outputs": [
    {
     "name": "stdout",
     "output_type": "stream",
     "text": [
      "Passed\n",
      "Passed\n",
      "Passed\n",
      "Passed\n",
      "Passed\n",
      "Passed\n",
      "Passed\n"
     ]
    }
   ],
   "source": [
    "Test.assert_equals(gold_distribution([4, 2, 9, 5, 2, 7]), [14, 15])\n",
    "Test.assert_equals(gold_distribution([4, 7, 2, 9, 5, 2]), [11, 18])\n",
    "Test.assert_equals(gold_distribution([10, 1000, 2, 1]), [12, 1001])\n",
    "Test.assert_equals(gold_distribution([10, 9, 1, 2, 8, 4]), [16, 18])\n",
    "Test.assert_equals(gold_distribution([9, 32, 12, 43, 1, 55]), [130, 22])\n",
    "Test.assert_equals(gold_distribution([19, 22, 1, 5, 7, 31]), [58, 27])\n",
    "Test.assert_equals(gold_distribution([2, 2, 2, 2, 2, 2]), [6, 6])\n"
   ]
  },
  {
   "cell_type": "code",
   "execution_count": 56,
   "id": "40ab6bd0",
   "metadata": {},
   "outputs": [],
   "source": [
    "def zeroes_to_end(lst):\n",
    "    a = lst.copy()\n",
    "    n=len(lst)\n",
    "    k = -1\n",
    "    for i in range(n):\n",
    "        if a[i] == 0 and k ==-1:\n",
    "            k = i\n",
    "        if a[i] == 0 and k!=0:\n",
    "            continue\n",
    "        if a[i]!= 0 and k!=-1:\n",
    "            c=a[i]\n",
    "            a[i]=a[k]\n",
    "            a[k] = c\n",
    "            k +=1\n",
    "    return a"
   ]
  },
  {
   "cell_type": "code",
   "execution_count": 57,
   "id": "ded9cd48",
   "metadata": {},
   "outputs": [
    {
     "name": "stdout",
     "output_type": "stream",
     "text": [
      "Passed\n",
      "Passed\n",
      "Passed\n",
      "Passed\n",
      "Passed\n"
     ]
    }
   ],
   "source": [
    "a1 = [1, 2, 0, 0, 4, 0, 5]\n",
    "a2 = [0, 0, 1, 3]\n",
    "a3 = [0, 0, 2, 0, 5]\n",
    "a4 = [4, 4, 5]\n",
    "a5 = [0, 0]\n",
    "\n",
    "r1 = zeroes_to_end(a1)\n",
    "r2 = zeroes_to_end(a2)\n",
    "r3 = zeroes_to_end(a3)\n",
    "r4 = zeroes_to_end(a4)\n",
    "r5 = zeroes_to_end(a5)\n",
    "\n",
    "Test.assert_equals(r1, [1, 2, 4, 5, 0, 0, 0])\n",
    "Test.assert_equals(r2, [1, 3, 0, 0])\n",
    "Test.assert_equals(r3, [2, 5, 0, 0, 0])\n",
    "Test.assert_equals(r4, [4, 4, 5])\n",
    "Test.assert_equals(r5, [0, 0])"
   ]
  },
  {
   "cell_type": "code",
   "execution_count": 58,
   "id": "856e204f",
   "metadata": {},
   "outputs": [],
   "source": [
    "def does_triangle_fit(brick, hole):\n",
    "    a_1 = brick.copy()\n",
    "    a_2 = hole.copy()\n",
    "   \n",
    "    for i in range(3):\n",
    "        if a_1[i%3] >= a_1[(i+1)%3]+a_1[(i+2)%3]:\n",
    "            return False\n",
    "\n",
    "    for i in range(3):\n",
    "        if a_2[i%3] >= a_2[(i+1)%3]+a_2[(i+2)%3]:\n",
    "            return False\n",
    "        \n",
    "\n",
    "\n",
    "    p_1 = (a_1[0]+a_1[1]+a_1[2])/2\n",
    "    p_2 = (a_2[0]+a_2[1]+a_2[2])/2\n",
    "\n",
    "    S_1 = ((p_1*(p_1-a_1[0])*(p_1-a_1[2])**(0.5))*(p_1-a_1[2]))\n",
    "    S_2 = ((p_2*(p_2-a_2[0])*(p_2-a_2[2])**(0.5))*(p_2-a_2[2]))\n",
    "\n",
    "    r_1 = S_1/p_1\n",
    "    r_2 = S_2/p_2\n",
    "\n",
    "    Rad_1 = (a_1[0]*a_1[1]*a_1[2])/(4*S_1)\n",
    "    Rad_2 = (a_2[0]*a_2[1]*a_2[2])/(4*S_2)\n",
    "\n",
    "    if(Rad_1 == Rad_2 and r_1 >= r_2):\n",
    "        return True\n",
    "    elif(r_1 >= Rad_2 or r_2 >= Rad_1):\n",
    "        return True\n",
    "    else:\n",
    "        return False"
   ]
  },
  {
   "cell_type": "code",
   "execution_count": 59,
   "id": "cf80e249",
   "metadata": {},
   "outputs": [
    {
     "name": "stdout",
     "output_type": "stream",
     "text": [
      "Passed\n",
      "Passed\n",
      "Passed\n",
      "Passed\n",
      "Passed\n",
      "Passed\n"
     ]
    }
   ],
   "source": [
    "Test.assert_equals(does_triangle_fit([1, 1, 1], [1, 1, 1]), True)\n",
    "Test.assert_equals(does_triangle_fit([1, 1, 1], [2, 2, 2]), True)\n",
    "Test.assert_equals(does_triangle_fit([1, 6, 8], [1, 6, 8]), False)\n",
    "Test.assert_equals(does_triangle_fit([12, 63, 42], [1, 6, 8]), False)\n",
    "Test.assert_equals(does_triangle_fit([3, 6, 8], [23, 63, 42]), True)\n",
    "Test.assert_equals(does_triangle_fit([3, 6, 8], [1, 10, 8]), False)"
   ]
  },
  {
   "cell_type": "code",
   "execution_count": null,
   "id": "a27e15f6",
   "metadata": {},
   "outputs": [],
   "source": []
  }
 ],
 "metadata": {
  "kernelspec": {
   "display_name": "Python 3 (ipykernel)",
   "language": "python",
   "name": "python3"
  },
  "language_info": {
   "codemirror_mode": {
    "name": "ipython",
    "version": 3
   },
   "file_extension": ".py",
   "mimetype": "text/x-python",
   "name": "python",
   "nbconvert_exporter": "python",
   "pygments_lexer": "ipython3",
   "version": "3.10.0"
  }
 },
 "nbformat": 4,
 "nbformat_minor": 5
}
